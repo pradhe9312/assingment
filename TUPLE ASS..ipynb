{
 "cells": [
  {
   "cell_type": "code",
   "execution_count": 4,
   "id": "1d8a7d73",
   "metadata": {},
   "outputs": [],
   "source": [
    "###Tuple"
   ]
  },
  {
   "cell_type": "code",
   "execution_count": 5,
   "id": "e9777913",
   "metadata": {},
   "outputs": [
    {
     "data": {
      "text/plain": [
       "((1, 2), (3, 4))"
      ]
     },
     "execution_count": 5,
     "metadata": {},
     "output_type": "execute_result"
    }
   ],
   "source": [
    "data = ((1, 2), (3, 4))\n",
    "data"
   ]
  },
  {
   "cell_type": "code",
   "execution_count": null,
   "id": "7045cdd9",
   "metadata": {},
   "outputs": [],
   "source": [
    "###List assigned to varaible"
   ]
  },
  {
   "cell_type": "code",
   "execution_count": 6,
   "id": "21954bd6",
   "metadata": {},
   "outputs": [
    {
     "data": {
      "text/plain": [
       "[4, 3, 2, 1]"
      ]
     },
     "execution_count": 6,
     "metadata": {},
     "output_type": "execute_result"
    }
   ],
   "source": [
    "numbers = [4, 3, 2, 1]\n",
    "numbers"
   ]
  },
  {
   "cell_type": "code",
   "execution_count": 7,
   "id": "bdd770c8",
   "metadata": {},
   "outputs": [],
   "source": [
    "#Copy of the numbers list using [:]"
   ]
  },
  {
   "cell_type": "code",
   "execution_count": 12,
   "id": "12c7b5e9",
   "metadata": {},
   "outputs": [],
   "source": [
    "numbers_copy = numbers[:]"
   ]
  },
  {
   "cell_type": "code",
   "execution_count": 13,
   "id": "7b0d2b36",
   "metadata": {},
   "outputs": [],
   "source": [
    "#sorting list in asscending order"
   ]
  },
  {
   "cell_type": "code",
   "execution_count": 14,
   "id": "5e3d3895",
   "metadata": {},
   "outputs": [
    {
     "name": "stdout",
     "output_type": "stream",
     "text": [
      "[1, 2, 3, 4]\n"
     ]
    }
   ],
   "source": [
    "numbers.sort()\n",
    "print(numbers)"
   ]
  },
  {
   "cell_type": "code",
   "execution_count": null,
   "id": "22677442",
   "metadata": {},
   "outputs": [],
   "source": [
    "#cardinal Numbers"
   ]
  },
  {
   "cell_type": "code",
   "execution_count": 16,
   "id": "777b2423",
   "metadata": {},
   "outputs": [
    {
     "data": {
      "text/plain": [
       "('first', 'second', 'third')"
      ]
     },
     "execution_count": 16,
     "metadata": {},
     "output_type": "execute_result"
    }
   ],
   "source": [
    "cardinal_numbers = (\"first\", \"second\", \"third\")\n",
    "cardinal_numbers"
   ]
  },
  {
   "cell_type": "code",
   "execution_count": 17,
   "id": "9d4bc8d0",
   "metadata": {},
   "outputs": [],
   "source": [
    "#Display the second object in the tuple"
   ]
  },
  {
   "cell_type": "code",
   "execution_count": 18,
   "id": "67fbd4c4",
   "metadata": {},
   "outputs": [
    {
     "name": "stdout",
     "output_type": "stream",
     "text": [
      "second\n"
     ]
    }
   ],
   "source": [
    "second_object = cardinal_numbers[1]\n",
    "print(second_object)"
   ]
  },
  {
   "cell_type": "code",
   "execution_count": null,
   "id": "87e4f925",
   "metadata": {},
   "outputs": [],
   "source": [
    "#unpack tuple"
   ]
  },
  {
   "cell_type": "code",
   "execution_count": 20,
   "id": "7469078a",
   "metadata": {},
   "outputs": [
    {
     "name": "stdout",
     "output_type": "stream",
     "text": [
      "first second third\n"
     ]
    }
   ],
   "source": [
    "first, second, third = cardinal_numbers\n",
    "print(first, second, third)"
   ]
  },
  {
   "cell_type": "code",
   "execution_count": null,
   "id": "0794309d",
   "metadata": {},
   "outputs": [],
   "source": [
    "#tuple containing the letters of my name from a string and checking if x present in my name"
   ]
  },
  {
   "cell_type": "code",
   "execution_count": 2,
   "id": "9a1c69fb",
   "metadata": {},
   "outputs": [
    {
     "name": "stdout",
     "output_type": "stream",
     "text": [
      "('P', 'R', 'A', 'T', 'H', 'A', 'M', 'E', 'S', 'H')\n",
      "x is not present in ('P', 'R', 'A', 'T', 'H', 'A', 'M', 'E', 'S', 'H')\n",
      "S is present in ('P', 'R', 'A', 'T', 'H', 'A', 'M', 'E', 'S', 'H')\n"
     ]
    }
   ],
   "source": [
    "name = \"PRATHAMESH\"\n",
    "name_tuple = tuple(name)\n",
    "print(name_tuple)\n",
    "if 'X' in name:\n",
    "    print(\"x is present in\",name_tuple)\n",
    "else:\n",
    "    print(\"x is not present in\",name_tuple)\n"
   ]
  },
  {
   "cell_type": "code",
   "execution_count": 8,
   "id": "1faf1235",
   "metadata": {},
   "outputs": [
    {
     "name": "stdout",
     "output_type": "stream",
     "text": [
      "('P', 'R', 'A', 'T', 'H', 'A', 'M', 'E', 'S', 'H')\n",
      "S is present in ('P', 'R', 'A', 'T', 'H', 'A', 'M', 'E', 'S', 'H')\n"
     ]
    }
   ],
   "source": [
    "name = \"PRATHAMESH\"\n",
    "name_tuple = tuple(name)\n",
    "print(name_tuple)\n",
    "if 'S' in name:\n",
    "    print(\"S is present in\",name_tuple)\n",
    "else:\n",
    "    print(\"S is not present in\",name_tuple)"
   ]
  }
 ],
 "metadata": {
  "kernelspec": {
   "display_name": "Python 3 (ipykernel)",
   "language": "python",
   "name": "python3"
  },
  "language_info": {
   "codemirror_mode": {
    "name": "ipython",
    "version": 3
   },
   "file_extension": ".py",
   "mimetype": "text/x-python",
   "name": "python",
   "nbconvert_exporter": "python",
   "pygments_lexer": "ipython3",
   "version": "3.10.9"
  }
 },
 "nbformat": 4,
 "nbformat_minor": 5
}
